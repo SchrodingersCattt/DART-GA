{
 "cells": [
  {
   "cell_type": "code",
   "execution_count": 32,
   "metadata": {},
   "outputs": [],
   "source": [
    "import os\n",
    "import sys\n",
    "\n",
    "tc_install_dir = \"/opt/Thermo-Calc-educational/2024b\"\n",
    "tc_python_dir = f\"{tc_install_dir}/python/lib/python3.9/site-packages\"\n",
    "\n",
    "os.environ[\"TC_INSTALL_DIR\"] = tc_install_dir\n",
    "os.environ[\"TC24B_HOME\"] = tc_install_dir\n",
    "os.environ[\"LSHOST\"] = \"educational\"\n",
    "os.environ[\"LSERVRC\"] = \"/opt/Thermo-Calc-educational/2024b/lservrc\"\n",
    "\n",
    "os.environ[\"LD_LIBRARY_PATH\"] = f\"{tc_install_dir}/lib:\" + os.environ.get(\"LD_LIBRARY_PATH\", \"\")\n",
    "os.environ[\"TC_LICENSE_FILE\"] = f\"{tc_install_dir}/license/license_file\"\n",
    "\n",
    "if tc_python_dir not in sys.path:\n",
    "    sys.path.insert(0, tc_python_dir)\n",
    "\n",
    "import tc_python\n"
   ]
  },
  {
   "cell_type": "code",
   "execution_count": 33,
   "metadata": {},
   "outputs": [
    {
     "name": "stdout",
     "output_type": "stream",
     "text": [
      "09:19:56,183 [Thread-1] INFO  CalculationEngine: Starting Thermo-Calc 2024b, Java-version: 21.0.2\n",
      "\n"
     ]
    },
    {
     "ename": "CalculationException",
     "evalue": "Thermo-Calc calculation error: java.lang.RuntimeException: se.thermocalc.core.LicenseException: Contacting license manager gave an error:\nError[3]: Failed to resolve the server host \"educational\".\n",
     "output_type": "error",
     "traceback": [
      "\u001b[0;31m---------------------------------------------------------------------------\u001b[0m",
      "\u001b[0;31mCalculationException\u001b[0m                      Traceback (most recent call last)",
      "\u001b[1;32m/mnt/data_nas/guomingyu/PROPERTIES_PREDICTION/Genetic_Alloy/notebook/calphad.ipynb Cell 2\u001b[0m line \u001b[0;36m1\n\u001b[0;32m----> <a href='vscode-notebook-cell://dsw-gateway-cn-beijing.data.aliyun.com/mnt/data_nas/guomingyu/PROPERTIES_PREDICTION/Genetic_Alloy/notebook/calphad.ipynb#W1sdnNjb2RlLXJlbW90ZQ%3D%3D?line=0'>1</a>\u001b[0m \u001b[39mwith\u001b[39;49;00m TCPython() \u001b[39mas\u001b[39;49;00m start:\n\u001b[1;32m      <a href='vscode-notebook-cell://dsw-gateway-cn-beijing.data.aliyun.com/mnt/data_nas/guomingyu/PROPERTIES_PREDICTION/Genetic_Alloy/notebook/calphad.ipynb#W1sdnNjb2RlLXJlbW90ZQ%3D%3D?line=1'>2</a>\u001b[0m     gibbs_energy \u001b[39m=\u001b[39;49m (\n\u001b[1;32m      <a href='vscode-notebook-cell://dsw-gateway-cn-beijing.data.aliyun.com/mnt/data_nas/guomingyu/PROPERTIES_PREDICTION/Genetic_Alloy/notebook/calphad.ipynb#W1sdnNjb2RlLXJlbW90ZQ%3D%3D?line=2'>3</a>\u001b[0m         start\u001b[39m.\u001b[39;49m\n\u001b[1;32m      <a href='vscode-notebook-cell://dsw-gateway-cn-beijing.data.aliyun.com/mnt/data_nas/guomingyu/PROPERTIES_PREDICTION/Genetic_Alloy/notebook/calphad.ipynb#W1sdnNjb2RlLXJlbW90ZQ%3D%3D?line=3'>4</a>\u001b[0m             select_database_and_elements(\u001b[39m\"\u001b[39;49m\u001b[39mFEDEMO\u001b[39;49m\u001b[39m\"\u001b[39;49m, [\u001b[39m\"\u001b[39;49m\u001b[39mFe\u001b[39;49m\u001b[39m\"\u001b[39;49m, \u001b[39m\"\u001b[39;49m\u001b[39mCr\u001b[39;49m\u001b[39m\"\u001b[39;49m, \u001b[39m\"\u001b[39;49m\u001b[39mC\u001b[39;49m\u001b[39m\"\u001b[39;49m])\u001b[39m.\u001b[39;49m\n\u001b[0;32m   (...)\u001b[0m\n\u001b[1;32m     <a href='vscode-notebook-cell://dsw-gateway-cn-beijing.data.aliyun.com/mnt/data_nas/guomingyu/PROPERTIES_PREDICTION/Genetic_Alloy/notebook/calphad.ipynb#W1sdnNjb2RlLXJlbW90ZQ%3D%3D?line=10'>11</a>\u001b[0m                 get_value_of(\u001b[39m\"\u001b[39;49m\u001b[39mG\u001b[39;49m\u001b[39m\"\u001b[39;49m)\n\u001b[1;32m     <a href='vscode-notebook-cell://dsw-gateway-cn-beijing.data.aliyun.com/mnt/data_nas/guomingyu/PROPERTIES_PREDICTION/Genetic_Alloy/notebook/calphad.ipynb#W1sdnNjb2RlLXJlbW90ZQ%3D%3D?line=11'>12</a>\u001b[0m         )\n",
      "File \u001b[0;32m/opt/Thermo-Calc-educational/2024b/python/lib/python3.9/site-packages/tc_python/server.py:368\u001b[0m, in \u001b[0;36mTCPython.__enter__\u001b[0;34m(self)\u001b[0m\n\u001b[1;32m    366\u001b[0m     \u001b[39mreturn\u001b[39;00m SetUp(\u001b[39mself\u001b[39m\u001b[39m.\u001b[39m_debug_logging)\n\u001b[1;32m    367\u001b[0m \u001b[39mexcept\u001b[39;00m \u001b[39mException\u001b[39;00m \u001b[39mas\u001b[39;00m e:\n\u001b[0;32m--> 368\u001b[0m     handle_exception(e)\n",
      "File \u001b[0;32m/opt/Thermo-Calc-educational/2024b/python/lib/python3.9/site-packages/tc_python/server.py:366\u001b[0m, in \u001b[0;36mTCPython.__enter__\u001b[0;34m(self)\u001b[0m\n\u001b[1;32m    362\u001b[0m \u001b[39mtry\u001b[39;00m:\n\u001b[1;32m    363\u001b[0m     start_api_server(logging_policy\u001b[39m=\u001b[39m\u001b[39mself\u001b[39m\u001b[39m.\u001b[39m_logging_policy, log_file\u001b[39m=\u001b[39m\u001b[39mself\u001b[39m\u001b[39m.\u001b[39m_log_file, debug_mode\u001b[39m=\u001b[39m\u001b[39mself\u001b[39m\u001b[39m.\u001b[39m_debug_mode,\n\u001b[1;32m    364\u001b[0m                      do_throw_on_backend_hard_crash\u001b[39m=\u001b[39m\u001b[39mself\u001b[39m\u001b[39m.\u001b[39m_do_throw_on_backend_hard_crash,\n\u001b[1;32m    365\u001b[0m                      port_number\u001b[39m=\u001b[39m\u001b[39mself\u001b[39m\u001b[39m.\u001b[39m_port_number)\n\u001b[0;32m--> 366\u001b[0m     \u001b[39mreturn\u001b[39;00m SetUp(\u001b[39mself\u001b[39;49m\u001b[39m.\u001b[39;49m_debug_logging)\n\u001b[1;32m    367\u001b[0m \u001b[39mexcept\u001b[39;00m \u001b[39mException\u001b[39;00m \u001b[39mas\u001b[39;00m e:\n\u001b[1;32m    368\u001b[0m     handle_exception(e)\n",
      "File \u001b[0;32m/opt/Thermo-Calc-educational/2024b/python/lib/python3.9/site-packages/tc_python/server.py:713\u001b[0m, in \u001b[0;36mSetUp.__init__\u001b[0;34m(self, debug_logging)\u001b[0m\n\u001b[1;32m    710\u001b[0m     LOGGER\u001b[39m.\u001b[39mdebug(\n\u001b[1;32m    711\u001b[0m         \u001b[39m\"\u001b[39m\u001b[39mJava process address: \u001b[39m\u001b[39m{}\u001b[39;00m\u001b[39m\"\u001b[39m\u001b[39m.\u001b[39mformat(JavaGatewayManager\u001b[39m.\u001b[39mget_instance()\u001b[39m.\u001b[39mget()\u001b[39m.\u001b[39mgateway_parameters\u001b[39m.\u001b[39maddress))\n\u001b[1;32m    712\u001b[0m \u001b[39mexcept\u001b[39;00m \u001b[39mException\u001b[39;00m \u001b[39mas\u001b[39;00m e:\n\u001b[0;32m--> 713\u001b[0m     handle_exception(e)\n",
      "File \u001b[0;32m/opt/Thermo-Calc-educational/2024b/python/lib/python3.9/site-packages/tc_python/exceptions.py:125\u001b[0m, in \u001b[0;36mhandle_exception\u001b[0;34m(e)\u001b[0m\n\u001b[1;32m    122\u001b[0m exception \u001b[39m=\u001b[39m _get_python_exception(e)\n\u001b[1;32m    123\u001b[0m \u001b[39mif\u001b[39;00m exception:\n\u001b[1;32m    124\u001b[0m     \u001b[39m# the original cause gets suppressed when using \"from None\"\u001b[39;00m\n\u001b[0;32m--> 125\u001b[0m     \u001b[39mraise\u001b[39;00m exception \u001b[39mfrom\u001b[39;00m \u001b[39mNone\u001b[39;00m\n\u001b[1;32m    126\u001b[0m \u001b[39melse\u001b[39;00m:\n\u001b[1;32m    127\u001b[0m     \u001b[39m# any other exception is just re-raised\u001b[39;00m\n\u001b[1;32m    128\u001b[0m     \u001b[39mraise\u001b[39;00m\n",
      "\u001b[0;31mCalculationException\u001b[0m: Thermo-Calc calculation error: java.lang.RuntimeException: se.thermocalc.core.LicenseException: Contacting license manager gave an error:\nError[3]: Failed to resolve the server host \"educational\".\n"
     ]
    }
   ],
   "source": [
    "with TCPython() as start:\n",
    "    gibbs_energy = (\n",
    "        start.\n",
    "            select_database_and_elements(\"FEDEMO\", [\"Fe\", \"Cr\", \"C\"]).\n",
    "            get_system().\n",
    "            with_single_equilibrium_calculation().\n",
    "                set_condition(ThermodynamicQuantity.temperature(), 2000.0).\n",
    "                set_condition(ThermodynamicQuantity.mole_fraction_of_a_component(\"Cr\"), 0.1).\n",
    "                set_condition(ThermodynamicQuantity.mole_fraction_of_a_component(\"C\"), 0.01).\n",
    "                calculate().\n",
    "                get_value_of(\"G\")\n",
    "        )"
   ]
  }
 ],
 "metadata": {
  "kernelspec": {
   "display_name": "Python 3",
   "language": "python",
   "name": "python3"
  },
  "language_info": {
   "codemirror_mode": {
    "name": "ipython",
    "version": 3
   },
   "file_extension": ".py",
   "mimetype": "text/x-python",
   "name": "python",
   "nbconvert_exporter": "python",
   "pygments_lexer": "ipython3",
   "version": "3.11.10"
  }
 },
 "nbformat": 4,
 "nbformat_minor": 2
}
